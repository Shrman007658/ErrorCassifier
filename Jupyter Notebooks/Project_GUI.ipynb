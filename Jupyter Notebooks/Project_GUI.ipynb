{
 "cells": [
  {
   "cell_type": "code",
   "execution_count": 1,
   "metadata": {
    "collapsed": true
   },
   "outputs": [],
   "source": [
    "import tkinter as tk\n",
    "from tkinter import *\n",
    "import pandas as pd\n",
    "import os\n",
    "import subprocess\n",
    "from pandas import ExcelWriter\n",
    "from sklearn.model_selection import train_test_split\n",
    "from sklearn.naive_bayes import MultinomialNB\n",
    "from sklearn.feature_extraction.text import TfidfTransformer\n",
    "from sklearn.feature_extraction.text import CountVectorizer\n",
    "from sklearn import metrics\n",
    "from sklearn.metrics import accuracy_score\n",
    "from tkinter import filedialog\n",
    "import nltk\n",
    "from nltk.corpus import stopwords \n",
    "from nltk.tokenize import word_tokenize\n",
    "from nltk.stem.wordnet import WordNetLemmatizer \n",
    "import re\n",
    "import time\n",
    "import warnings\n",
    "from sklearn.externals import joblib\n",
    "joblib_file=\"joblib_classifier_model.pkl\"\n",
    "warnings.filterwarnings('ignore')\n",
    "from sklearn.ensemble import RandomForestClassifier\n",
    "rf = RandomForestClassifier(n_estimators = 1000, random_state = 12)"
   ]
  },
  {
   "cell_type": "code",
   "execution_count": 2,
   "metadata": {
    "collapsed": true
   },
   "outputs": [],
   "source": [
    "path=''\n",
    "fpath=''\n",
    "lem=WordNetLemmatizer()\n",
    "cnt_vectorizer = CountVectorizer()\n",
    "transtfidf=TfidfTransformer()\n",
    "clf=MultinomialNB()\n",
    "X_train=[]\n",
    "X_test=[]\n",
    "y_train=[]\n",
    "y_test=[]\n",
    "root=tk.Tk()\n",
    "root.title(\"Organizer\")\n",
    "root.geometry(\"750x700\")\n",
    "df = pd.DataFrame()\n",
    "def preprocessor(Title,dataframe):\n",
    "    l=len(Title)\n",
    "    for x in range(0,l):\n",
    "        stop_words = stopwords.words('english')\n",
    "        stop_words.remove('not')\n",
    "        lw=Title[x].lower()\n",
    "        #removing special character    \n",
    "        sub = re.sub(r'\\W', ' ', str(lw))\n",
    "        \n",
    "        #tokenization\n",
    "        tokenized_word=word_tokenize(sub) \n",
    "        filtered_word=[]\n",
    "        for w in tokenized_word:\n",
    "            if w not in stop_words:\n",
    "                filtered_word.append(w)\n",
    "        #lemmatization  \n",
    "        lemmed_word=[]\n",
    "        for w in filtered_word:\n",
    "             lemmed_word.append(lem.lemmatize(w,\"v\"))\n",
    "        #print(\"Lematized_Sentence:\",lemmed_word)\n",
    "        s=' '.join(lemmed_word)\n",
    "        dataframe['Title'][x]=s\n"
   ]
  },
  {
   "cell_type": "code",
   "execution_count": 3,
   "metadata": {
    "collapsed": true
   },
   "outputs": [],
   "source": [
    "def FileSelect():\n",
    "    try:\n",
    "        global path\n",
    "        StatusLabel.configure(text=\"Status:Stemming..Lematizing...Tossing..Turning..PLease Wait.\")\n",
    "        path=filedialog.askopenfilename(filetypes=((\"Template files\",\"*.xlsx\"),(\"All files\",\"*\")))\n",
    "        global df\n",
    "        df=pd.read_excel(path)\n",
    "        preprocessor(df['Title'],df)\n",
    "        StatusLabel.configure(text=\"Status:File Path Configured...\")\n",
    "        df.Title.fillna(df.Title.dropna().max(),inplace =True)\n",
    "        df.Category.fillna(df.Category.dropna().max(),inplace =True)\n",
    "        root.mainloop()\n",
    "    except Exception as e:\n",
    "        StatusLabel.configure(text=e)\n",
    "        root.mainloop()\n"
   ]
  },
  {
   "cell_type": "code",
   "execution_count": 4,
   "metadata": {
    "collapsed": true
   },
   "outputs": [],
   "source": [
    "def SplitData():\n",
    "    value=float(splt.get())\n",
    "    try:\n",
    "            global df\n",
    "            global X_train,X_test,y_test,y_train\n",
    "            X=df['Title']\n",
    "            y=df['Category']\n",
    "            X_train,X_test,y_train,y_test=train_test_split(X,y,test_size=value,random_state=1)\n",
    "            testStatus.configure(text=\"Splitted and Ready to workâ˜º\")\n",
    "            root.mainloop()\n",
    "    except Exception as e:\n",
    "            testStatus.configure(text=e)\n",
    "            root.mainloop()"
   ]
  },
  {
   "cell_type": "code",
   "execution_count": 5,
   "metadata": {
    "collapsed": true
   },
   "outputs": [],
   "source": [
    "def TrainMachine():\n",
    "        try:\n",
    "\n",
    "                \n",
    "                global X_train,X_test,y_train,y_test\n",
    "                X_train_tf=cnt_vectorizer.fit_transform(X_train)\n",
    "                X_train_tfidf=transtfidf.fit_transform(X_train_tf)\n",
    "                rf.fit(X_train_tfidf,y_train)\n",
    "                trainStatus.configure(text=\"The model is trained :)\")\n",
    "                root.mainloop()\n",
    "        except Exception as e:\n",
    "                trainStatus.configure(text=e)\n",
    "                root.mainloop()"
   ]
  },
  {
   "cell_type": "code",
   "execution_count": 6,
   "metadata": {
    "collapsed": true
   },
   "outputs": [],
   "source": [
    "def TestMachine():\n",
    "        try:\n",
    "                global X_train,X_test,y_train,y_test\n",
    "                X_test_tf=cnt_vectorizer.transform(X_test)\n",
    "                X_test_tfidf=transtfidf.transform(X_test_tf)\n",
    "                predictedTest=rf.predict(X_test_tfidf)\n",
    "                acc=accuracy_score(y_test,predictedTest)\n",
    "                res=\"The accuracy is \"+str(acc)\n",
    "                MTestStatus.configure(text=res)\n",
    "                root.mainloop()\n",
    "        except Exception as e:\n",
    "                MTestStatus.configure(text=e)\n",
    "                root.mainloop()"
   ]
  },
  {
   "cell_type": "code",
   "execution_count": 7,
   "metadata": {
    "collapsed": true
   },
   "outputs": [],
   "source": [
    "def FinTrain():\n",
    "        try:\n",
    "                tottrainStatus.configure(text=\"Status:Stemming..Lematizing...Tossing..Turning..PLease Wait.\")\n",
    "                trainfile=filedialog.askopenfilename(filetypes=((\"Template files\",\"*.xlsx\"),(\"All files\",\"*\")))\n",
    "                if path==trainfile:\n",
    "                        dft=df\n",
    "                        time.sleep(1)\n",
    "                        tottrainStatus.configure(text=\"Status:Identified same file as evaluation.Initialization skipped.File Configured...\")\n",
    "                else:\n",
    "                        dft=pd.read_excel(trainfile)\n",
    "                        preprocessor(dft['Title'],dft)\n",
    "                        tottrainStatus.configure(text=\"Status:File Configured...\")\n",
    "                        dft.Title.fillna(dft.Title.dropna().max(),inplace =True)\n",
    "                        dft.Category.fillna(dft.Category.dropna().max(),inplace =True)\n",
    "                        \n",
    "                X_tot=dft['Title']\n",
    "                y_tot=dft['Category']\n",
    "                X_train_tftot=cnt_vectorizer.fit_transform(X_tot)\n",
    "                X_train_tfidftot=transtfidf.fit_transform(X_train_tftot)\n",
    "                rf.fit(X_train_tfidftot,y_tot)\n",
    "                status=tk.Label(root,text=\"The final model has been trained\").place(x=350,y=275)\n",
    "                joblib.dump(rf,joblib_file)\n",
    "                root.mainloop()\n",
    "        except Exception as e:\n",
    "                tottrainStatus.configure(text=\"error ->\"+e)\n",
    "                root.mainloop()"
   ]
  },
  {
   "cell_type": "code",
   "execution_count": 8,
   "metadata": {
    "collapsed": true
   },
   "outputs": [],
   "source": [
    "def Findxl():\n",
    "        try:\n",
    "                global df,fpath\n",
    "                fpath=filedialog.askopenfilename(filetypes=((\"Template files\",\"*.xlsx\"),(\"All files\",\"*\")))\n",
    "                df=pd.read_excel(fpath)\n",
    "                tarbutStatus.configure(text=\"File Locked and Loaded\")\n",
    "        except Exception as e:\n",
    "                tarbutStatus.configure(text=e)"
   ]
  },
  {
   "cell_type": "code",
   "execution_count": 9,
   "metadata": {
    "collapsed": true
   },
   "outputs": [],
   "source": [
    "def PutXl():\n",
    "        try:\n",
    "                global df\n",
    "                #load stored model\n",
    "                model=joblib.load(joblib_file)\n",
    "                X_xl=df['Title']\n",
    "                df['Pred_category']=0#initializing null column\n",
    "                X_xl_vect=cnt_vectorizer.transform(X_xl)\n",
    "                X_xl_tfidf=transtfidf.transform(X_xl_vect)\n",
    "                df['Pred_category']=model.predict(X_xl_tfidf)\n",
    "                engine='xlsxwriter'\n",
    "                #writer=ExcelWriter(fpath,engine=engine)\n",
    "                df.to_excel(\"output.xlsx\")\n",
    "                c=os.getcwd()\n",
    "                c=c+'\\\\output.xlsx'\n",
    "                os.startfile(c)\n",
    "                #os.open(c)\n",
    "                #subprocess.Popen(r'explorer /select,\"C:\\\\Users\\SHRAMAN\\\\output.xlsx\"')\n",
    "                predbutStatus.configure(text=\"Task Completed!\")\n",
    "                root.mainloop()\n",
    "        except Exception as e:\n",
    "                predbutStatus.configure(text=e)\n",
    "                root.mainloop()\n",
    "\n",
    "\n",
    "NameLabel=tk.Label(root,text=\"Enter the file for training the model\")\n",
    "NameLabel.pack()\n",
    "NameLabel.place(x=0,y=20)\n"
   ]
  },
  {
   "cell_type": "code",
   "execution_count": 10,
   "metadata": {
    "collapsed": true
   },
   "outputs": [],
   "source": [
    "browse=tk.Button(root, text = \"Browse\", command =FileSelect, width = 10)\n",
    "browse.place(x=200,y=20)\n",
    "StatusLabel=tk.Label(root,text=\"Status:Waiting.....\")\n",
    "StatusLabel.place(x=200,y=55)"
   ]
  },
  {
   "cell_type": "code",
   "execution_count": 11,
   "metadata": {
    "collapsed": true
   },
   "outputs": [],
   "source": [
    "TrainTest=tk.Label(root,text=\"Enter the train test ratio for the split:\")\n",
    "TrainTest.place(x=0,y=80)\n",
    "splt=tk.Entry(root,width=25)\n",
    "splt.grid(column=0,row=1)\n",
    "splt.place(x=200,y=85)\n",
    "test=tk.Button(root,text=\"Split Data\",command=SplitData, width=10)\n",
    "test.place(x=360,y=83)\n",
    "testStatus=tk.Label(root,text=\"Status:Waiting\")\n",
    "testStatus.place(x=200,y=110)\n"
   ]
  },
  {
   "cell_type": "code",
   "execution_count": 12,
   "metadata": {
    "collapsed": true
   },
   "outputs": [],
   "source": [
    "train=tk.Button(root,text=\"TRAIN MODEL\",command=TrainMachine,width=20)\n",
    "train.place(x=50,y=140)\n",
    "trainStatus=tk.Label(root,text=\"TrainStatus:Waiting..\")\n",
    "trainStatus.place(x=270,y=140)\n",
    "test=tk.Button(root,text=\"TEST MODEL\",width=20,command=TestMachine)\n",
    "test.place(x=50,y=170)\n",
    "MTestStatus=tk.Label(root,text=\"TestStatus:Waiting...\")\n",
    "MTestStatus.place(x=270,y=170)\n"
   ]
  },
  {
   "cell_type": "code",
   "execution_count": 13,
   "metadata": {
    "collapsed": true
   },
   "outputs": [],
   "source": [
    "chlabel=tk.Label(root,text=\"Please Select the File to Train Final Machine\")\n",
    "chlabel.place(x=0,y=250)\n",
    "tottrain=tk.Button(root,text=\"Browse File\",command=FinTrain,width=10)\n",
    "tottrain.place(x=250,y=248)\n",
    "tottrainStatus=tk.Label(root,text=\"Status:Waiting for File..\")\n",
    "tottrainStatus.place(x=345,y=249)"
   ]
  },
  {
   "cell_type": "code",
   "execution_count": 14,
   "metadata": {
    "collapsed": true
   },
   "outputs": [],
   "source": [
    "tarfile=tk.Label(root,text=\"Select the target excel file for model to predict\")\n",
    "tarfile.place(x=0,y=310)\n",
    "tarbut=tk.Button(root,text='Browse File',command=Findxl,width=10)\n",
    "tarbut.place(x=250,y=310)\n",
    "tarbutStatus=tk.Label(root,text='Status:Waiting for file..')\n",
    "tarbutStatus.place(x=345,y=310)"
   ]
  },
  {
   "cell_type": "code",
   "execution_count": 15,
   "metadata": {
    "collapsed": false
   },
   "outputs": [],
   "source": [
    "predbut=tk.Button(root,text=\"Predict Values To File\",command=PutXl,width=20)\n",
    "predbut.place(x=250,y=350)\n",
    "predbutStatus=tk.Label(root,text=\"Status: Waiting..\")\n",
    "predbutStatus.place(x=250,y=390)\n",
    "root.mainloop()\n"
   ]
  },
  {
   "cell_type": "code",
   "execution_count": null,
   "metadata": {
    "collapsed": true
   },
   "outputs": [],
   "source": []
  }
 ],
 "metadata": {
  "kernelspec": {
   "display_name": "Python 3",
   "language": "python",
   "name": "python3"
  },
  "language_info": {
   "codemirror_mode": {
    "name": "ipython",
    "version": 3
   },
   "file_extension": ".py",
   "mimetype": "text/x-python",
   "name": "python",
   "nbconvert_exporter": "python",
   "pygments_lexer": "ipython3",
   "version": "3.6.0"
  }
 },
 "nbformat": 4,
 "nbformat_minor": 2
}
